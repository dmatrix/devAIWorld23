{
 "cells": [
  {
   "cell_type": "markdown",
   "metadata": {},
   "source": [
    "# Ray Tutorial Basic Core APIs - Overview\n",
    "\n",
    "© 2021-2023, Anyscale. All Rights Reserved\n",
    "\n",
    "<img src=\"images/ray-logo.png\" height=\"15%\" width=\"30%\">\n",
    "\n",
    "## About This Tutorial\n",
    "\n",
    "\n",
    "See the instructions in the [README](README.md) tutorial overview to set up your environment to use this tutorial if you want to run this on your laptop. If you using Anyscale hosted enviroment for this class, then you don't have to do anything. "
   ]
  },
  {
   "cell_type": "markdown",
   "metadata": {},
   "source": [
    "|     | Lesson | Description |\n",
    "| :-- | :----- | :---------- |\n",
    "|     | **Module 1** | **Ray Tasks, Ray Objects, and Ray Actors** |\n",
    "|     | Table of contents | Overview of this tutorial. |\n",
    "| 01  | [Ray Remote Functions ](ex_01_remote_funcs.ipynb) |The remote function as stateless tasks pattern. |\n",
    "| 02  | [Ray Remote Objects](ex_02_remote_objs.ipynb) |The remote objects, stored in a immutable distributed store, as futures pattern.  |\n",
    "| 03  | [Ray Remote Classes](ex_03_remote_classes.ipynb)| The remote class as a distributed and scalable stateful service pattern.|"
   ]
  }
 ],
 "metadata": {
  "kernelspec": {
   "display_name": "Python 3 (ipykernel)",
   "language": "python",
   "name": "python3"
  },
  "language_info": {
   "codemirror_mode": {
    "name": "ipython",
    "version": 3
   },
   "file_extension": ".py",
   "mimetype": "text/x-python",
   "name": "python",
   "nbconvert_exporter": "python",
   "pygments_lexer": "ipython3",
   "version": "3.10.12"
  }
 },
 "nbformat": 4,
 "nbformat_minor": 4
}
