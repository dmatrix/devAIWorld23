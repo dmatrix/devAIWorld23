{
 "cells": [
  {
   "cell_type": "markdown",
   "metadata": {},
   "source": [
    "# Ray Tutorial Basic Core APIs - Overview\n",
    "\n",
    "© 2021-2023, Anyscale. All Rights Reserved\n",
    "\n",
    "<img src=\"images/ray-logo.png\" height=\"15%\" width=\"30%\">\n",
    "\n",
    "## About This Tutorial\n",
    "\n",
    "\n",
    "See the instructions in the [README](README.md) tutorial overview to set up your environment to use this tutorial if you want to run this on your laptop. If you using Anyscale hosted enviroment for this class, then you don't have to do anything. "
   ]
  },
  {
   "cell_type": "markdown",
   "metadata": {},
   "source": [
    "|     | Lesson | Description |\n",
    "| :-- | :----- | :---------- |\n",
    "|     | **Module 1** | **Ray Tasks, Ray Objects, and Ray Actors** |\n",
    "|     | Table of contents | Overview of this tutorial. |\n",
    "| 01  | [Ray Remote Functions and objects ](ex_01_remote_funcs_and_objects.ipynb) |The remote function as stateless tasks pattern. |\n",
    "| 02  | [Ray Remote Classes](ex_02_remote_classes.ipynb)| The remote class as a distributed and scalable stateful service pattern.|\n",
    "| 03  | [Ray AI Libraries Classes](ex_03_ray_libraries.ipynb)| An end-to-end application using Ray AI libraries.|\n",
    "| 04  | [Ray Remote Classes Revisited](ex_04_remote_classes_revisited.ipynb)| A example to show Ray Actor Tree Pattern.|\n"
   ]
  }
 ],
 "metadata": {
  "kernelspec": {
   "display_name": "Python 3 (ipykernel)",
   "language": "python",
   "name": "python3"
  },
  "language_info": {
   "codemirror_mode": {
    "name": "ipython",
    "version": 3
   },
   "file_extension": ".py",
   "mimetype": "text/x-python",
   "name": "python",
   "nbconvert_exporter": "python",
   "pygments_lexer": "ipython3",
   "version": "3.10.12"
  }
 },
 "nbformat": 4,
 "nbformat_minor": 4
}
